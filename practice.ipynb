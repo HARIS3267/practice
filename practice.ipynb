{
 "cells": [
  {
   "cell_type": "code",
   "execution_count": 1,
   "metadata": {},
   "outputs": [
    {
     "name": "stdout",
     "output_type": "stream",
     "text": [
      "hello world\n"
     ]
    }
   ],
   "source": [
    "print(\"hello world\")\n"
   ]
  },
  {
   "cell_type": "code",
   "execution_count": 5,
   "metadata": {},
   "outputs": [
    {
     "name": "stdout",
     "output_type": "stream",
     "text": [
      "muhammad haris.\n"
     ]
    }
   ],
   "source": [
    "name = \"muhammad haris.\"\n",
    "print(name)"
   ]
  },
  {
   "cell_type": "code",
   "execution_count": 6,
   "metadata": {
    "scrolled": true
   },
   "outputs": [
    {
     "name": "stdout",
     "output_type": "stream",
     "text": [
      "hello  muhammad haris.\n"
     ]
    }
   ],
   "source": [
    "print(\"hello  \"+name)\n"
   ]
  },
  {
   "cell_type": "code",
   "execution_count": 24,
   "metadata": {},
   "outputs": [
    {
     "name": "stdout",
     "output_type": "stream",
     "text": [
      "28\n",
      "29\n"
     ]
    }
   ],
   "source": [
    "age = 28\n",
    "print(age)\n",
    "age+=1\n",
    "print(age)\n"
   ]
  },
  {
   "cell_type": "code",
   "execution_count": 30,
   "metadata": {},
   "outputs": [
    {
     "name": "stdout",
     "output_type": "stream",
     "text": [
      "65\n",
      "ahsan\n",
      "ali  has got 78  numbers in his test\n",
      "24\n",
      "34\n",
      "waseem\n"
     ]
    }
   ],
   "source": [
    "'''practice for lists/array'''\n",
    "#this is also a comment\n",
    "  \n",
    "marks = [78, 92, 31, 25, 65, 65]\n",
    "names = [\"ali\", \"arsalan\", \"muhammad\", \"kamran\", \"asif\", \"ahsan\"]\n",
    "\n",
    "print ( marks[5] )\n",
    "print (names[5])\n",
    "print ( names[0] + \"  has got\", marks[0] , \" numbers in his test\")\n",
    "\n",
    "# going to add items in this lists one by one\n",
    "\n",
    "marks.append(23)\n",
    "names.append(\"imran\")\n",
    "\n",
    "#to add more than one item\n",
    "\n",
    "marks += [55, 23, 24] # or you can use marks = marks + [55,23,24] as well\n",
    "print(marks[9])\n",
    "\n",
    "#a mixed list can also be created such as\n",
    "\n",
    "mixed_list = [\"ali\", 34, \"house\"]\n",
    "print(mixed_list[1])\n",
    "\n",
    "# to insert an itme as specific location in a list\n",
    "names.insert(0 , \"waseem\")\n",
    "print (names[0])\n"
   ]
  },
  {
   "cell_type": "code",
   "execution_count": 1,
   "metadata": {},
   "outputs": [
    {
     "name": "stdout",
     "output_type": "stream",
     "text": [
      "[2, 3, 4]\n"
     ]
    }
   ],
   "source": [
    "nums = [0, 1, 2, 3, 4, 5]\n",
    "small = nums[2:5]\n",
    "print (small)"
   ]
  },
  {
   "cell_type": "code",
   "execution_count": 2,
   "metadata": {},
   "outputs": [
    {
     "name": "stdout",
     "output_type": "stream",
     "text": [
      "kfkkjf\n"
     ]
    }
   ],
   "source": [
    "print(\"kfkkjf\")"
   ]
  },
  {
   "cell_type": "code",
   "execution_count": 6,
   "metadata": {},
   "outputs": [
    {
     "name": "stdout",
     "output_type": "stream",
     "text": [
      "['apple', 'orange', 'banana', 'kiwi']\n",
      "['apple', 'orange', 'kiwi']\n",
      "['apple', 'orange']\n"
     ]
    }
   ],
   "source": [
    "# to delete a specific item from list \n",
    "\n",
    "items = [\"apple\", \"orange\", \"banana\", \"kiwi\"]\n",
    "print (items)\n",
    "\n",
    "del items[2]  # deleting item by index number \n",
    "print(items)\n",
    "\n",
    "items.remove(\"kiwi\") #deleting by specifying the item\n",
    "print(items)"
   ]
  },
  {
   "cell_type": "code",
   "execution_count": 13,
   "metadata": {},
   "outputs": [
    {
     "name": "stdout",
     "output_type": "stream",
     "text": [
      "['apples', 'banana', 'kiwi', 'melon', 'cherry']\n",
      "['apples', 'banana', 'melon', 'cherry']\n",
      "['kiwi']\n",
      "\n",
      "['kiwi', 'apples']\n",
      "\n",
      "['cherry', 'kiwi', 'apples']\n"
     ]
    }
   ],
   "source": [
    "'''this will explain how to pop/remove an item and assign to another variable '''\n",
    "fruits =[\"apples\",\"banana\",\"kiwi\",\"melon\",\"cherry\"]\n",
    "print(fruits)\n",
    "to_buy = [] #this is an empty list created to be filled later on\n",
    "x = fruits.pop(2) #this will remove the specific item from list and add it in to another variable\n",
    "to_buy.append(x)\n",
    "print(fruits)\n",
    "print(to_buy)\n",
    "print()\n",
    "to_buy.append(fruits.pop(0))\n",
    "print(to_buy)\n",
    "print()\n",
    "to_buy.insert(0,fruits.pop(2)) # to insert the item at specific location from other list\n",
    "print(to_buy)"
   ]
  },
  {
   "cell_type": "code",
   "execution_count": 18,
   "metadata": {},
   "outputs": [
    {
     "name": "stdout",
     "output_type": "stream",
     "text": [
      "apple\n",
      "banana\n",
      "its cherry\n",
      "cherry\n"
     ]
    }
   ],
   "source": [
    "# this for loop perform itteration method going one by one in given list,tuple,dict or string\n",
    "fruits = [\"apple\", \"banana\", \"cherry\"]\n",
    "for x in fruits:                        # here we applied for loop on a list \n",
    "    if (x==\"cherry\"):\n",
    "        print(\"its cherry\")\n",
    "    print(x)"
   ]
  },
  {
   "cell_type": "code",
   "execution_count": 19,
   "metadata": {},
   "outputs": [
    {
     "name": "stdout",
     "output_type": "stream",
     "text": [
      "h\n",
      "a\n",
      "its a fuckin a!!!, congratulations\n",
      "r\n",
      "i\n",
      "s\n"
     ]
    }
   ],
   "source": [
    "name = \"haris\"\n",
    "for x in name:    #  x is acting like a counter itself going on one by one item \n",
    "    print(x)\n",
    "    if (x==\"a\"):\n",
    "        print(\"its a fuckin a!!!, congratulations\")\n",
    "    "
   ]
  },
  {
   "cell_type": "code",
   "execution_count": 23,
   "metadata": {},
   "outputs": [
    {
     "name": "stdout",
     "output_type": "stream",
     "text": [
      "ali  is fail and secure 22 marks\n",
      "waqas has secured 36 marks and declared pass\n",
      "hassan has secured 55 marks and declared pass\n",
      "waseem has secured 95 marks and declared pass\n",
      "moeen has secured 88 marks and declared pass\n",
      "congratulations !!!!  hameed you have secured full marks\n"
     ]
    }
   ],
   "source": [
    "# break statement terminate the loop and continue statement skip that step in that itteration\n",
    "number =[22,36,55,95,88,100]\n",
    "names = [\"ali\", \"waqas\", \"hassan\", \"waseem\", \"moeen\", \"hameed\"]\n",
    "count = 0\n",
    "for x in number:\n",
    "    if x < 33:\n",
    "        print(names[count], \" is fail and secure\", number[count], \"marks\")\n",
    "    elif x == 100:\n",
    "        print (\"congratulations !!!! \", names[count], \"you have secured full marks\")\n",
    "    else:\n",
    "        print (names[count], \"has secured\", number[count], \"marks and declared pass\")\n",
    "    count +=1\n",
    "    \n",
    "        \n"
   ]
  },
  {
   "cell_type": "code",
   "execution_count": 29,
   "metadata": {},
   "outputs": [
    {
     "name": "stdout",
     "output_type": "stream",
     "text": [
      "Enter your wages:2500\n",
      "your monthly income is =2500\n",
      "your yearly income is = 30000\n"
     ]
    }
   ],
   "source": [
    "# user input practice\n",
    "wages = input(\"Enter your wages:\")\n",
    "print(\"your monthly income is =\" + wages)\n",
    "print(\"your yearly income is = \" + str(int(wages)*12))"
   ]
  },
  {
   "cell_type": "code",
   "execution_count": null,
   "metadata": {},
   "outputs": [],
   "source": []
  }
 ],
 "metadata": {
  "kernelspec": {
   "display_name": "Python 3",
   "language": "python",
   "name": "python3"
  },
  "language_info": {
   "codemirror_mode": {
    "name": "ipython",
    "version": 3
   },
   "file_extension": ".py",
   "mimetype": "text/x-python",
   "name": "python",
   "nbconvert_exporter": "python",
   "pygments_lexer": "ipython3",
   "version": "3.6.5"
  }
 },
 "nbformat": 4,
 "nbformat_minor": 2
}
